{
 "cells": [
  {
   "cell_type": "code",
   "execution_count": 1,
   "metadata": {},
   "outputs": [],
   "source": [
    "import numpy as np\n",
    "import pandas as pd\n",
    "pd.set_option('display.max_columns', None)\n",
    "import matplotlib.pylab as plt\n",
    "%matplotlib inline"
   ]
  },
  {
   "cell_type": "code",
   "execution_count": 2,
   "metadata": {},
   "outputs": [],
   "source": [
    "FOLDER = \"../features/\"\n",
    "df_train = pd.read_pickle(FOLDER + \"train_features.pkl\")\n",
    "df_test = pd.read_pickle(FOLDER + \"test_features.pkl\")\n",
    "\n",
    "sub = pd.read_csv('../ensembles/blending.csv.gz')"
   ]
  },
  {
   "cell_type": "code",
   "execution_count": 3,
   "metadata": {},
   "outputs": [
    {
     "data": {
      "text/html": [
       "<div>\n",
       "<style scoped>\n",
       "    .dataframe tbody tr th:only-of-type {\n",
       "        vertical-align: middle;\n",
       "    }\n",
       "\n",
       "    .dataframe tbody tr th {\n",
       "        vertical-align: top;\n",
       "    }\n",
       "\n",
       "    .dataframe thead th {\n",
       "        text-align: right;\n",
       "    }\n",
       "</style>\n",
       "<table border=\"1\" class=\"dataframe\">\n",
       "  <thead>\n",
       "    <tr style=\"text-align: right;\">\n",
       "      <th></th>\n",
       "      <th>row_id</th>\n",
       "      <th>building_id</th>\n",
       "      <th>meter</th>\n",
       "      <th>timestamp</th>\n",
       "      <th>site_id</th>\n",
       "      <th>primary_use</th>\n",
       "      <th>square_feet</th>\n",
       "      <th>year_built</th>\n",
       "      <th>floor_count</th>\n",
       "      <th>air_temperature</th>\n",
       "      <th>cloud_coverage</th>\n",
       "      <th>dew_temperature</th>\n",
       "      <th>precip_depth_1_hr</th>\n",
       "      <th>apparent_temperature</th>\n",
       "      <th>DT_hour</th>\n",
       "      <th>DT_day_week</th>\n",
       "      <th>timestamp_og</th>\n",
       "      <th>meter_reading</th>\n",
       "    </tr>\n",
       "  </thead>\n",
       "  <tbody>\n",
       "    <tr>\n",
       "      <th>0</th>\n",
       "      <td>0</td>\n",
       "      <td>0</td>\n",
       "      <td>0</td>\n",
       "      <td>8784.0</td>\n",
       "      <td>0</td>\n",
       "      <td>0</td>\n",
       "      <td>8.914062</td>\n",
       "      <td>2008.0</td>\n",
       "      <td>NaN</td>\n",
       "      <td>17.80000</td>\n",
       "      <td>4.000000</td>\n",
       "      <td>11.700000</td>\n",
       "      <td>0.282609</td>\n",
       "      <td>16.832337</td>\n",
       "      <td>0</td>\n",
       "      <td>6</td>\n",
       "      <td>2017-01-01</td>\n",
       "      <td>175.1754</td>\n",
       "    </tr>\n",
       "    <tr>\n",
       "      <th>1</th>\n",
       "      <td>41613054</td>\n",
       "      <td>1225</td>\n",
       "      <td>0</td>\n",
       "      <td>8784.0</td>\n",
       "      <td>14</td>\n",
       "      <td>6</td>\n",
       "      <td>11.718750</td>\n",
       "      <td>NaN</td>\n",
       "      <td>NaN</td>\n",
       "      <td>-2.33913</td>\n",
       "      <td>0.324324</td>\n",
       "      <td>-12.543478</td>\n",
       "      <td>0.000000</td>\n",
       "      <td>-7.009489</td>\n",
       "      <td>0</td>\n",
       "      <td>6</td>\n",
       "      <td>2017-01-01</td>\n",
       "      <td>181.1159</td>\n",
       "    </tr>\n",
       "    <tr>\n",
       "      <th>2</th>\n",
       "      <td>41613055</td>\n",
       "      <td>1225</td>\n",
       "      <td>1</td>\n",
       "      <td>8784.0</td>\n",
       "      <td>14</td>\n",
       "      <td>6</td>\n",
       "      <td>11.718750</td>\n",
       "      <td>NaN</td>\n",
       "      <td>NaN</td>\n",
       "      <td>-2.33913</td>\n",
       "      <td>0.324324</td>\n",
       "      <td>-12.543478</td>\n",
       "      <td>0.000000</td>\n",
       "      <td>-7.009489</td>\n",
       "      <td>0</td>\n",
       "      <td>6</td>\n",
       "      <td>2017-01-01</td>\n",
       "      <td>179.6197</td>\n",
       "    </tr>\n",
       "    <tr>\n",
       "      <th>3</th>\n",
       "      <td>41613056</td>\n",
       "      <td>1225</td>\n",
       "      <td>2</td>\n",
       "      <td>8784.0</td>\n",
       "      <td>14</td>\n",
       "      <td>6</td>\n",
       "      <td>11.718750</td>\n",
       "      <td>NaN</td>\n",
       "      <td>NaN</td>\n",
       "      <td>-2.33913</td>\n",
       "      <td>0.324324</td>\n",
       "      <td>-12.543478</td>\n",
       "      <td>0.000000</td>\n",
       "      <td>-7.009489</td>\n",
       "      <td>0</td>\n",
       "      <td>6</td>\n",
       "      <td>2017-01-01</td>\n",
       "      <td>681.2432</td>\n",
       "    </tr>\n",
       "    <tr>\n",
       "      <th>4</th>\n",
       "      <td>41613057</td>\n",
       "      <td>1226</td>\n",
       "      <td>0</td>\n",
       "      <td>8784.0</td>\n",
       "      <td>14</td>\n",
       "      <td>0</td>\n",
       "      <td>10.242188</td>\n",
       "      <td>NaN</td>\n",
       "      <td>NaN</td>\n",
       "      <td>-2.33913</td>\n",
       "      <td>0.324324</td>\n",
       "      <td>-12.543478</td>\n",
       "      <td>0.000000</td>\n",
       "      <td>-7.009489</td>\n",
       "      <td>0</td>\n",
       "      <td>6</td>\n",
       "      <td>2017-01-01</td>\n",
       "      <td>42.1520</td>\n",
       "    </tr>\n",
       "  </tbody>\n",
       "</table>\n",
       "</div>"
      ],
      "text/plain": [
       "     row_id  building_id  meter  timestamp  site_id  primary_use  square_feet  \\\n",
       "0         0            0      0     8784.0        0            0     8.914062   \n",
       "1  41613054         1225      0     8784.0       14            6    11.718750   \n",
       "2  41613055         1225      1     8784.0       14            6    11.718750   \n",
       "3  41613056         1225      2     8784.0       14            6    11.718750   \n",
       "4  41613057         1226      0     8784.0       14            0    10.242188   \n",
       "\n",
       "   year_built  floor_count  air_temperature  cloud_coverage  dew_temperature  \\\n",
       "0      2008.0          NaN         17.80000        4.000000        11.700000   \n",
       "1         NaN          NaN         -2.33913        0.324324       -12.543478   \n",
       "2         NaN          NaN         -2.33913        0.324324       -12.543478   \n",
       "3         NaN          NaN         -2.33913        0.324324       -12.543478   \n",
       "4         NaN          NaN         -2.33913        0.324324       -12.543478   \n",
       "\n",
       "   precip_depth_1_hr  apparent_temperature  DT_hour  DT_day_week timestamp_og  \\\n",
       "0           0.282609             16.832337        0            6   2017-01-01   \n",
       "1           0.000000             -7.009489        0            6   2017-01-01   \n",
       "2           0.000000             -7.009489        0            6   2017-01-01   \n",
       "3           0.000000             -7.009489        0            6   2017-01-01   \n",
       "4           0.000000             -7.009489        0            6   2017-01-01   \n",
       "\n",
       "   meter_reading  \n",
       "0       175.1754  \n",
       "1       181.1159  \n",
       "2       179.6197  \n",
       "3       681.2432  \n",
       "4        42.1520  "
      ]
     },
     "execution_count": 3,
     "metadata": {},
     "output_type": "execute_result"
    }
   ],
   "source": [
    "df_test = df_test.merge(sub, on='row_id',how=\"left\")\n",
    "df_test.head()"
   ]
  },
  {
   "cell_type": "code",
   "execution_count": 4,
   "metadata": {},
   "outputs": [
    {
     "name": "stdout",
     "output_type": "stream",
     "text": [
      "(17520, 2) (17520, 2)\n"
     ]
    }
   ],
   "source": [
    "building_693 = pd.read_csv('../post-processing/building_693.csv.gz')\n",
    "building_723 = pd.read_csv('../post-processing/building_723.csv.gz')\n",
    "\n",
    "print(building_693.shape, building_723.shape)"
   ]
  },
  {
   "cell_type": "code",
   "execution_count": 5,
   "metadata": {},
   "outputs": [],
   "source": [
    "# df_test.loc[building_693.row_id, 'meter_reading']= building_693.meter_reading"
   ]
  },
  {
   "cell_type": "code",
   "execution_count": 6,
   "metadata": {},
   "outputs": [],
   "source": [
    "df_test.loc[df_test.row_id.isin(building_693.row_id), 'meter_reading'] = building_693.meter_reading.values\n",
    "df_test.loc[df_test.row_id.isin(building_723.row_id), 'meter_reading'] = building_723.meter_reading.values"
   ]
  },
  {
   "cell_type": "code",
   "execution_count": 7,
   "metadata": {},
   "outputs": [],
   "source": [
    "# set 778. 740 as 0\n",
    "df_test.loc[(df_test.building_id==778) & (df_test.meter == 1), 'meter_reading'] = df_test.loc[(df_test.building_id==778) & (df_test.meter == 1), 'meter_reading']  * 100\n",
    "df_test.loc[(df_test.building_id==740) & (df_test.meter == 0), 'meter_reading'] = 0.0004"
   ]
  },
  {
   "cell_type": "code",
   "execution_count": 8,
   "metadata": {},
   "outputs": [
    {
     "name": "stdout",
     "output_type": "stream",
     "text": [
      "(41697600, 2)\n"
     ]
    },
    {
     "data": {
      "text/html": [
       "<div>\n",
       "<style scoped>\n",
       "    .dataframe tbody tr th:only-of-type {\n",
       "        vertical-align: middle;\n",
       "    }\n",
       "\n",
       "    .dataframe tbody tr th {\n",
       "        vertical-align: top;\n",
       "    }\n",
       "\n",
       "    .dataframe thead th {\n",
       "        text-align: right;\n",
       "    }\n",
       "</style>\n",
       "<table border=\"1\" class=\"dataframe\">\n",
       "  <thead>\n",
       "    <tr style=\"text-align: right;\">\n",
       "      <th></th>\n",
       "      <th>row_id</th>\n",
       "      <th>meter_reading</th>\n",
       "    </tr>\n",
       "  </thead>\n",
       "  <tbody>\n",
       "    <tr>\n",
       "      <th>0</th>\n",
       "      <td>0</td>\n",
       "      <td>175.1754</td>\n",
       "    </tr>\n",
       "    <tr>\n",
       "      <th>1</th>\n",
       "      <td>41613054</td>\n",
       "      <td>181.1159</td>\n",
       "    </tr>\n",
       "    <tr>\n",
       "      <th>2</th>\n",
       "      <td>41613055</td>\n",
       "      <td>179.6197</td>\n",
       "    </tr>\n",
       "    <tr>\n",
       "      <th>3</th>\n",
       "      <td>41613056</td>\n",
       "      <td>681.2432</td>\n",
       "    </tr>\n",
       "    <tr>\n",
       "      <th>4</th>\n",
       "      <td>41613057</td>\n",
       "      <td>42.1520</td>\n",
       "    </tr>\n",
       "  </tbody>\n",
       "</table>\n",
       "</div>"
      ],
      "text/plain": [
       "     row_id  meter_reading\n",
       "0         0       175.1754\n",
       "1  41613054       181.1159\n",
       "2  41613055       179.6197\n",
       "3  41613056       681.2432\n",
       "4  41613057        42.1520"
      ]
     },
     "execution_count": 8,
     "metadata": {},
     "output_type": "execute_result"
    }
   ],
   "source": [
    "submit = df_test[['row_id', 'meter_reading']]\n",
    "print(submit.shape)\n",
    "submit.head()"
   ]
  },
  {
   "cell_type": "code",
   "execution_count": 9,
   "metadata": {},
   "outputs": [
    {
     "name": "stdout",
     "output_type": "stream",
     "text": [
      "(41697600, 2)\n"
     ]
    },
    {
     "name": "stderr",
     "output_type": "stream",
     "text": [
      "/home/ww6p9/anaconda3/lib/python3.7/site-packages/ipykernel_launcher.py:1: SettingWithCopyWarning: \n",
      "A value is trying to be set on a copy of a slice from a DataFrame.\n",
      "Try using .loc[row_indexer,col_indexer] = value instead\n",
      "\n",
      "See the caveats in the documentation: http://pandas.pydata.org/pandas-docs/stable/user_guide/indexing.html#returning-a-view-versus-a-copy\n",
      "  \"\"\"Entry point for launching an IPython kernel.\n",
      "/home/ww6p9/anaconda3/lib/python3.7/site-packages/pandas/core/generic.py:5208: SettingWithCopyWarning: \n",
      "A value is trying to be set on a copy of a slice from a DataFrame.\n",
      "Try using .loc[row_indexer,col_indexer] = value instead\n",
      "\n",
      "See the caveats in the documentation: http://pandas.pydata.org/pandas-docs/stable/user_guide/indexing.html#returning-a-view-versus-a-copy\n",
      "  self[name] = value\n"
     ]
    },
    {
     "data": {
      "text/html": [
       "<div>\n",
       "<style scoped>\n",
       "    .dataframe tbody tr th:only-of-type {\n",
       "        vertical-align: middle;\n",
       "    }\n",
       "\n",
       "    .dataframe tbody tr th {\n",
       "        vertical-align: top;\n",
       "    }\n",
       "\n",
       "    .dataframe thead th {\n",
       "        text-align: right;\n",
       "    }\n",
       "</style>\n",
       "<table border=\"1\" class=\"dataframe\">\n",
       "  <thead>\n",
       "    <tr style=\"text-align: right;\">\n",
       "      <th></th>\n",
       "      <th>row_id</th>\n",
       "      <th>meter_reading</th>\n",
       "    </tr>\n",
       "  </thead>\n",
       "  <tbody>\n",
       "    <tr>\n",
       "      <th>0</th>\n",
       "      <td>0</td>\n",
       "      <td>154.1544</td>\n",
       "    </tr>\n",
       "    <tr>\n",
       "      <th>1</th>\n",
       "      <td>41613054</td>\n",
       "      <td>159.3820</td>\n",
       "    </tr>\n",
       "    <tr>\n",
       "      <th>2</th>\n",
       "      <td>41613055</td>\n",
       "      <td>158.0653</td>\n",
       "    </tr>\n",
       "    <tr>\n",
       "      <th>3</th>\n",
       "      <td>41613056</td>\n",
       "      <td>599.4940</td>\n",
       "    </tr>\n",
       "    <tr>\n",
       "      <th>4</th>\n",
       "      <td>41613057</td>\n",
       "      <td>37.0938</td>\n",
       "    </tr>\n",
       "  </tbody>\n",
       "</table>\n",
       "</div>"
      ],
      "text/plain": [
       "     row_id  meter_reading\n",
       "0         0       154.1544\n",
       "1  41613054       159.3820\n",
       "2  41613055       158.0653\n",
       "3  41613056       599.4940\n",
       "4  41613057        37.0938"
      ]
     },
     "execution_count": 9,
     "metadata": {},
     "output_type": "execute_result"
    }
   ],
   "source": [
    "submit['meter_reading'] = submit['meter_reading'] * 0.88\n",
    "submit.meter_reading = submit.meter_reading.round(4)\n",
    "print(submit.shape)\n",
    "submit.head()"
   ]
  },
  {
   "cell_type": "code",
   "execution_count": 10,
   "metadata": {},
   "outputs": [
    {
     "name": "stdout",
     "output_type": "stream",
     "text": [
      "Writing the submission to csv.gz file ...\n"
     ]
    }
   ],
   "source": [
    "SUBMISSION_FILE_PATH = \"../submission/last_sub_2.csv.gz\"\n",
    "print(\"Writing the submission to csv.gz file ...\")\n",
    "submit.to_csv(SUBMISSION_FILE_PATH, index=False, compression='gzip')"
   ]
  },
  {
   "cell_type": "code",
   "execution_count": 11,
   "metadata": {},
   "outputs": [
    {
     "data": {
      "text/plain": [
       "346.9697188391682"
      ]
     },
     "execution_count": 11,
     "metadata": {},
     "output_type": "execute_result"
    }
   ],
   "source": [
    "submit.meter_reading.mean()\n"
   ]
  },
  {
   "cell_type": "code",
   "execution_count": 12,
   "metadata": {},
   "outputs": [],
   "source": [
    "best_085 = pd.read_csv('../submission/best_085.csv.gz')"
   ]
  },
  {
   "cell_type": "code",
   "execution_count": 13,
   "metadata": {},
   "outputs": [
    {
     "data": {
      "text/plain": [
       "345.04576230462703"
      ]
     },
     "execution_count": 13,
     "metadata": {},
     "output_type": "execute_result"
    }
   ],
   "source": [
    "best_085.meter_reading.mean()"
   ]
  },
  {
   "cell_type": "code",
   "execution_count": 14,
   "metadata": {},
   "outputs": [
    {
     "data": {
      "text/plain": [
       "346.72"
      ]
     },
     "execution_count": 14,
     "metadata": {},
     "output_type": "execute_result"
    }
   ],
   "source": [
    "394 * 0.88"
   ]
  },
  {
   "cell_type": "code",
   "execution_count": null,
   "metadata": {},
   "outputs": [],
   "source": []
  },
  {
   "cell_type": "code",
   "execution_count": null,
   "metadata": {},
   "outputs": [],
   "source": []
  },
  {
   "cell_type": "code",
   "execution_count": null,
   "metadata": {},
   "outputs": [],
   "source": []
  },
  {
   "cell_type": "code",
   "execution_count": null,
   "metadata": {},
   "outputs": [],
   "source": []
  },
  {
   "cell_type": "code",
   "execution_count": null,
   "metadata": {},
   "outputs": [],
   "source": []
  },
  {
   "cell_type": "code",
   "execution_count": null,
   "metadata": {},
   "outputs": [],
   "source": []
  },
  {
   "cell_type": "code",
   "execution_count": null,
   "metadata": {},
   "outputs": [],
   "source": []
  }
 ],
 "metadata": {
  "kernelspec": {
   "display_name": "Python 3",
   "language": "python",
   "name": "python3"
  },
  "language_info": {
   "codemirror_mode": {
    "name": "ipython",
    "version": 3
   },
   "file_extension": ".py",
   "mimetype": "text/x-python",
   "name": "python",
   "nbconvert_exporter": "python",
   "pygments_lexer": "ipython3",
   "version": "3.7.5"
  }
 },
 "nbformat": 4,
 "nbformat_minor": 2
}

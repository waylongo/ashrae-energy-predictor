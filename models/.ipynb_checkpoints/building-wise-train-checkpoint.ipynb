{
 "cells": [
  {
   "cell_type": "code",
   "execution_count": 1,
   "metadata": {},
   "outputs": [],
   "source": [
    "import numpy as np\n",
    "import pandas as pd\n",
    "pd.set_option('display.max_columns', None)\n",
    "import matplotlib.pylab as plt\n",
    "%matplotlib inline\n",
    "import seaborn as sns\n",
    "import gc, math, os, warnings\n",
    "warnings.simplefilter(\"ignore\")\n",
    "from tqdm import tqdm_notebook\n",
    "\n",
    "from sklearn.preprocessing import LabelEncoder\n",
    "from sklearn.metrics import mean_squared_error\n",
    "from sklearn.model_selection import KFold, StratifiedKFold, GridSearchCV\n",
    "import lightgbm as lgb"
   ]
  },
  {
   "cell_type": "code",
   "execution_count": 2,
   "metadata": {},
   "outputs": [
    {
     "name": "stdout",
     "output_type": "stream",
     "text": [
      "train/test shape is: (19228395, 18) (41697600, 17)\n"
     ]
    }
   ],
   "source": [
    "FOLDER = \"../features/\"\n",
    "df_train = pd.read_pickle(FOLDER + \"train_features.pkl\")\n",
    "df_test = pd.read_pickle(FOLDER + \"test_features.pkl\")\n",
    "\n",
    "print(\"train/test shape is:\", df_train.shape, df_test.shape)"
   ]
  },
  {
   "cell_type": "code",
   "execution_count": 3,
   "metadata": {},
   "outputs": [
    {
     "data": {
      "text/html": [
       "<div>\n",
       "<style scoped>\n",
       "    .dataframe tbody tr th:only-of-type {\n",
       "        vertical-align: middle;\n",
       "    }\n",
       "\n",
       "    .dataframe tbody tr th {\n",
       "        vertical-align: top;\n",
       "    }\n",
       "\n",
       "    .dataframe thead th {\n",
       "        text-align: right;\n",
       "    }\n",
       "</style>\n",
       "<table border=\"1\" class=\"dataframe\">\n",
       "  <thead>\n",
       "    <tr style=\"text-align: right;\">\n",
       "      <th></th>\n",
       "      <th>building_id</th>\n",
       "      <th>meter</th>\n",
       "      <th>timestamp</th>\n",
       "      <th>meter_reading</th>\n",
       "      <th>site_id</th>\n",
       "      <th>primary_use</th>\n",
       "      <th>square_feet</th>\n",
       "      <th>year_built</th>\n",
       "      <th>floor_count</th>\n",
       "      <th>air_temperature</th>\n",
       "      <th>cloud_coverage</th>\n",
       "      <th>dew_temperature</th>\n",
       "      <th>precip_depth_1_hr</th>\n",
       "      <th>apparent_temperature</th>\n",
       "      <th>log_meter_reading</th>\n",
       "      <th>DT_hour</th>\n",
       "      <th>DT_day_week</th>\n",
       "      <th>timestamp_og</th>\n",
       "    </tr>\n",
       "  </thead>\n",
       "  <tbody>\n",
       "    <tr>\n",
       "      <th>16418015</th>\n",
       "      <td>1262</td>\n",
       "      <td>0</td>\n",
       "      <td>0.0</td>\n",
       "      <td>110.51</td>\n",
       "      <td>14</td>\n",
       "      <td>6</td>\n",
       "      <td>11.085938</td>\n",
       "      <td>NaN</td>\n",
       "      <td>NaN</td>\n",
       "      <td>3.934783</td>\n",
       "      <td>1.25</td>\n",
       "      <td>-3.282609</td>\n",
       "      <td>0.0</td>\n",
       "      <td>0.350981</td>\n",
       "      <td>4.714114</td>\n",
       "      <td>0</td>\n",
       "      <td>4</td>\n",
       "      <td>2016-01-01</td>\n",
       "    </tr>\n",
       "    <tr>\n",
       "      <th>16418016</th>\n",
       "      <td>1262</td>\n",
       "      <td>1</td>\n",
       "      <td>0.0</td>\n",
       "      <td>116.00</td>\n",
       "      <td>14</td>\n",
       "      <td>6</td>\n",
       "      <td>11.085938</td>\n",
       "      <td>NaN</td>\n",
       "      <td>NaN</td>\n",
       "      <td>3.934783</td>\n",
       "      <td>1.25</td>\n",
       "      <td>-3.282609</td>\n",
       "      <td>0.0</td>\n",
       "      <td>0.350981</td>\n",
       "      <td>4.762174</td>\n",
       "      <td>0</td>\n",
       "      <td>4</td>\n",
       "      <td>2016-01-01</td>\n",
       "    </tr>\n",
       "    <tr>\n",
       "      <th>16418017</th>\n",
       "      <td>1262</td>\n",
       "      <td>3</td>\n",
       "      <td>0.0</td>\n",
       "      <td>855.10</td>\n",
       "      <td>14</td>\n",
       "      <td>6</td>\n",
       "      <td>11.085938</td>\n",
       "      <td>NaN</td>\n",
       "      <td>NaN</td>\n",
       "      <td>3.934783</td>\n",
       "      <td>1.25</td>\n",
       "      <td>-3.282609</td>\n",
       "      <td>0.0</td>\n",
       "      <td>0.350981</td>\n",
       "      <td>6.752387</td>\n",
       "      <td>0</td>\n",
       "      <td>4</td>\n",
       "      <td>2016-01-01</td>\n",
       "    </tr>\n",
       "    <tr>\n",
       "      <th>2639831</th>\n",
       "      <td>226</td>\n",
       "      <td>0</td>\n",
       "      <td>0.0</td>\n",
       "      <td>29.45</td>\n",
       "      <td>2</td>\n",
       "      <td>6</td>\n",
       "      <td>11.210938</td>\n",
       "      <td>1930.0</td>\n",
       "      <td>NaN</td>\n",
       "      <td>15.600000</td>\n",
       "      <td>6.00</td>\n",
       "      <td>-5.600000</td>\n",
       "      <td>0.0</td>\n",
       "      <td>11.439780</td>\n",
       "      <td>3.416086</td>\n",
       "      <td>0</td>\n",
       "      <td>4</td>\n",
       "      <td>2016-01-01</td>\n",
       "    </tr>\n",
       "    <tr>\n",
       "      <th>3350958</th>\n",
       "      <td>262</td>\n",
       "      <td>0</td>\n",
       "      <td>0.0</td>\n",
       "      <td>16.84</td>\n",
       "      <td>2</td>\n",
       "      <td>1</td>\n",
       "      <td>9.945312</td>\n",
       "      <td>1999.0</td>\n",
       "      <td>NaN</td>\n",
       "      <td>15.600000</td>\n",
       "      <td>6.00</td>\n",
       "      <td>-5.600000</td>\n",
       "      <td>0.0</td>\n",
       "      <td>11.439780</td>\n",
       "      <td>2.881443</td>\n",
       "      <td>0</td>\n",
       "      <td>4</td>\n",
       "      <td>2016-01-01</td>\n",
       "    </tr>\n",
       "  </tbody>\n",
       "</table>\n",
       "</div>"
      ],
      "text/plain": [
       "          building_id  meter  timestamp  meter_reading  site_id  primary_use  \\\n",
       "16418015         1262      0        0.0         110.51       14            6   \n",
       "16418016         1262      1        0.0         116.00       14            6   \n",
       "16418017         1262      3        0.0         855.10       14            6   \n",
       "2639831           226      0        0.0          29.45        2            6   \n",
       "3350958           262      0        0.0          16.84        2            1   \n",
       "\n",
       "          square_feet  year_built  floor_count  air_temperature  \\\n",
       "16418015    11.085938         NaN          NaN         3.934783   \n",
       "16418016    11.085938         NaN          NaN         3.934783   \n",
       "16418017    11.085938         NaN          NaN         3.934783   \n",
       "2639831     11.210938      1930.0          NaN        15.600000   \n",
       "3350958      9.945312      1999.0          NaN        15.600000   \n",
       "\n",
       "          cloud_coverage  dew_temperature  precip_depth_1_hr  \\\n",
       "16418015            1.25        -3.282609                0.0   \n",
       "16418016            1.25        -3.282609                0.0   \n",
       "16418017            1.25        -3.282609                0.0   \n",
       "2639831             6.00        -5.600000                0.0   \n",
       "3350958             6.00        -5.600000                0.0   \n",
       "\n",
       "          apparent_temperature  log_meter_reading  DT_hour  DT_day_week  \\\n",
       "16418015              0.350981           4.714114        0            4   \n",
       "16418016              0.350981           4.762174        0            4   \n",
       "16418017              0.350981           6.752387        0            4   \n",
       "2639831              11.439780           3.416086        0            4   \n",
       "3350958              11.439780           2.881443        0            4   \n",
       "\n",
       "         timestamp_og  \n",
       "16418015   2016-01-01  \n",
       "16418016   2016-01-01  \n",
       "16418017   2016-01-01  \n",
       "2639831    2016-01-01  \n",
       "3350958    2016-01-01  "
      ]
     },
     "execution_count": 3,
     "metadata": {},
     "output_type": "execute_result"
    }
   ],
   "source": [
    "df_train.head()"
   ]
  },
  {
   "cell_type": "code",
   "execution_count": 4,
   "metadata": {},
   "outputs": [],
   "source": [
    "# set category feature\n",
    "categorical_features = [\n",
    "#     \"building_id\",  #\n",
    "#     \"primary_use\",\n",
    "    \"DT_day_week\",\n",
    "    \"DT_hour\",\n",
    "]\n",
    "for col in categorical_features:\n",
    "    df_train[col] = df_train[col].astype('category')\n",
    "    df_test[col] = df_test[col].astype('category')"
   ]
  },
  {
   "cell_type": "code",
   "execution_count": 5,
   "metadata": {},
   "outputs": [],
   "source": [
    "# drop useless features\n",
    "drop_features = [\n",
    "    \"timestamp\",  #\n",
    "    \"timestamp_og\",\n",
    "    \"site_id\",\n",
    "    'meter',\n",
    "    \"meter_reading\",\n",
    "    \"log_meter_reading\",\n",
    "    \"year_built\",\n",
    "    \"floor_count\",\n",
    "    \n",
    "    \"building_id\",\n",
    "    \"primary_use\",\n",
    "    \"square_feet\",\n",
    "    \n",
    "]\n",
    "all_features = [col for col in df_train.columns if col not in drop_features]"
   ]
  },
  {
   "cell_type": "code",
   "execution_count": 6,
   "metadata": {},
   "outputs": [
    {
     "name": "stdout",
     "output_type": "stream",
     "text": [
      "train/test shape is: (19228395, 18) (41697600, 17)\n",
      "features used # is 7\n"
     ]
    },
    {
     "data": {
      "text/html": [
       "<div>\n",
       "<style scoped>\n",
       "    .dataframe tbody tr th:only-of-type {\n",
       "        vertical-align: middle;\n",
       "    }\n",
       "\n",
       "    .dataframe tbody tr th {\n",
       "        vertical-align: top;\n",
       "    }\n",
       "\n",
       "    .dataframe thead th {\n",
       "        text-align: right;\n",
       "    }\n",
       "</style>\n",
       "<table border=\"1\" class=\"dataframe\">\n",
       "  <thead>\n",
       "    <tr style=\"text-align: right;\">\n",
       "      <th></th>\n",
       "      <th>air_temperature</th>\n",
       "      <th>cloud_coverage</th>\n",
       "      <th>dew_temperature</th>\n",
       "      <th>precip_depth_1_hr</th>\n",
       "      <th>apparent_temperature</th>\n",
       "      <th>DT_hour</th>\n",
       "      <th>DT_day_week</th>\n",
       "    </tr>\n",
       "  </thead>\n",
       "  <tbody>\n",
       "    <tr>\n",
       "      <th>16418015</th>\n",
       "      <td>3.934783</td>\n",
       "      <td>1.25</td>\n",
       "      <td>-3.282609</td>\n",
       "      <td>0.0</td>\n",
       "      <td>0.350981</td>\n",
       "      <td>0</td>\n",
       "      <td>4</td>\n",
       "    </tr>\n",
       "    <tr>\n",
       "      <th>16418016</th>\n",
       "      <td>3.934783</td>\n",
       "      <td>1.25</td>\n",
       "      <td>-3.282609</td>\n",
       "      <td>0.0</td>\n",
       "      <td>0.350981</td>\n",
       "      <td>0</td>\n",
       "      <td>4</td>\n",
       "    </tr>\n",
       "    <tr>\n",
       "      <th>16418017</th>\n",
       "      <td>3.934783</td>\n",
       "      <td>1.25</td>\n",
       "      <td>-3.282609</td>\n",
       "      <td>0.0</td>\n",
       "      <td>0.350981</td>\n",
       "      <td>0</td>\n",
       "      <td>4</td>\n",
       "    </tr>\n",
       "    <tr>\n",
       "      <th>2639831</th>\n",
       "      <td>15.600000</td>\n",
       "      <td>6.00</td>\n",
       "      <td>-5.600000</td>\n",
       "      <td>0.0</td>\n",
       "      <td>11.439780</td>\n",
       "      <td>0</td>\n",
       "      <td>4</td>\n",
       "    </tr>\n",
       "    <tr>\n",
       "      <th>3350958</th>\n",
       "      <td>15.600000</td>\n",
       "      <td>6.00</td>\n",
       "      <td>-5.600000</td>\n",
       "      <td>0.0</td>\n",
       "      <td>11.439780</td>\n",
       "      <td>0</td>\n",
       "      <td>4</td>\n",
       "    </tr>\n",
       "  </tbody>\n",
       "</table>\n",
       "</div>"
      ],
      "text/plain": [
       "          air_temperature  cloud_coverage  dew_temperature  precip_depth_1_hr  \\\n",
       "16418015         3.934783            1.25        -3.282609                0.0   \n",
       "16418016         3.934783            1.25        -3.282609                0.0   \n",
       "16418017         3.934783            1.25        -3.282609                0.0   \n",
       "2639831         15.600000            6.00        -5.600000                0.0   \n",
       "3350958         15.600000            6.00        -5.600000                0.0   \n",
       "\n",
       "          apparent_temperature DT_hour DT_day_week  \n",
       "16418015              0.350981       0           4  \n",
       "16418016              0.350981       0           4  \n",
       "16418017              0.350981       0           4  \n",
       "2639831              11.439780       0           4  \n",
       "3350958              11.439780       0           4  "
      ]
     },
     "execution_count": 6,
     "metadata": {},
     "output_type": "execute_result"
    }
   ],
   "source": [
    "print(\"train/test shape is:\", df_train.shape, df_test.shape)\n",
    "print(\"features used # is\", len(all_features))\n",
    "df_train[all_features].head()"
   ]
  },
  {
   "cell_type": "code",
   "execution_count": 7,
   "metadata": {},
   "outputs": [
    {
     "data": {
      "application/vnd.jupyter.widget-view+json": {
       "model_id": "a6e1b487a79d4a8cab37a405c0471477",
       "version_major": 2,
       "version_minor": 0
      },
      "text/plain": [
       "HBox(children=(FloatProgress(value=0.0, description='building_id', max=1.0, style=ProgressStyle(description_wi…"
      ]
     },
     "metadata": {},
     "output_type": "display_data"
    },
    {
     "name": "stdout",
     "output_type": "stream",
     "text": [
      "Best parameters found by grid search are: {'lambda_l2': 0.0, 'learning_rate': 0.01, 'max_depth': 6, 'metric': 'rmse', 'n_estimators': 5000, 'n_jobs': -1, 'num_leaves': 8, 'seed': 42, 'subsample': 0.85}\n",
      "\n"
     ]
    }
   ],
   "source": [
    "cv = 2\n",
    "models = {}\n",
    "site_model = {}\n",
    "cv_scores = {\"building_idx\": [], \"meter_id\":[], \"cv_score\": []}\n",
    "USE_GRID_SEARCH = True\n",
    "\n",
    "for building_idx in tqdm_notebook([723], desc=\"building_id\"):\n",
    "    \n",
    "    models[building_idx] = []\n",
    "    site_model = {}\n",
    "    for meter_id in [0]:\n",
    "        \n",
    "        ### train a single model for each site/meter\n",
    "        X_train_site = df_train[(df_train.building_id==building_idx) & (df_train.meter==meter_id) & (df_train.meter_reading > 50)].reset_index(drop=True)\n",
    "        y_train_site = X_train_site.log_meter_reading\n",
    "        y_pred_train_site = np.zeros(X_train_site.shape[0])\n",
    "        \n",
    "        if(len(X_train_site)==0):\n",
    "#             print(\"BUilding Id:\", building_idx, \"meter Id:\", meter_id, \"has no training data!\")\n",
    "            continue\n",
    "        \n",
    "#         print(\"==> Training model for building:\", building_idx, \"meter:\", meter_id, \"...\")\n",
    "        \n",
    "        kf = KFold(n_splits=cv)\n",
    "#         skf = StratifiedKFold(n_splits=cv, shuffle=False, random_state=42)\n",
    "        \n",
    "        site_model[meter_id] = []\n",
    "        score = 0\n",
    "\n",
    "        #################### grid search #############################################\n",
    "        if(USE_GRID_SEARCH):\n",
    "            estimator = lgb.LGBMRegressor()\n",
    "            param_grid = {\n",
    "                'metric': ['rmse'],\n",
    "                'num_leaves': [8, 16, 24],\n",
    "                'learning_rate': [0.01],\n",
    "                'n_estimators': [5000],\n",
    "                'subsample': [0.85], \n",
    "                'max_depth':[3, 4, 5, 6],\n",
    "                'lambda_l2':[0.00],\n",
    "                'seed': [42],\n",
    "                'n_jobs':[-1]\n",
    "            }\n",
    "            gbm = GridSearchCV(estimator, param_grid, cv=kf.split(X_train_site))\n",
    "            gbm.fit(X_train_site[all_features], y_train_site)\n",
    "            print('Best parameters found by grid search are:', gbm.best_params_)\n",
    "        else:\n",
    "            param = {\n",
    "                'metric': 'rmse',\n",
    "                'num_leaves': 8,\n",
    "                'learning_rate': 0.01,\n",
    "                'n_estimators': 5000,\n",
    "                'subsample': 0.85, \n",
    "                \"lambda_l2\":0.0,\n",
    "                \"max_depth\": 5,\n",
    "                'seed': 2836,\n",
    "                'n_jobs':-1\n",
    "            }\n",
    "            \n",
    "        #skf.split(X_train_site, X_train_site.building_id)\n",
    "        #kf.split(X_train_site)\n",
    "        for fold, (train_index, valid_index) in enumerate(kf.split(X_train_site)):\n",
    "            X_train, X_valid = X_train_site.loc[train_index, all_features], X_train_site.loc[valid_index, all_features]\n",
    "            y_train, y_valid = y_train_site.iloc[train_index], y_train_site.iloc[valid_index]\n",
    "            \n",
    "#             print(X_train.building_id.nunique(), \" == \", X_valid.building_id.nunique())\n",
    "#             print(\"train/valid size\", X_train.shape, X_valid.shape)\n",
    "            \n",
    "            if(USE_GRID_SEARCH):\n",
    "                model_lgb = lgb.LGBMRegressor(**gbm.best_params_)\n",
    "            else:\n",
    "                model_lgb = lgb.LGBMRegressor(**param)\n",
    "            \n",
    "            model_lgb.fit(X_train, y_train,\n",
    "#                 eval_set=[(X_train_site[all_features], y_train_site)],\n",
    "                eval_set=[(X_valid, y_valid)],\n",
    "                categorical_feature=categorical_features,\n",
    "                early_stopping_rounds=500,\n",
    "                verbose=False)\n",
    "        \n",
    "            site_model[meter_id].append(model_lgb)\n",
    "\n",
    "            y_pred_valid = model_lgb.predict(X_valid, num_iteration=model_lgb.best_iteration_)\n",
    "            y_pred_train_site[valid_index] = y_pred_valid\n",
    "\n",
    "            rmse = np.sqrt(mean_squared_error(y_valid, y_pred_valid))\n",
    "#             print(\"Building Id:\", building_idx, \"meter Id:\", meter_id, \", Fold:\", fold+1, \", RMSE:\", rmse)\n",
    "            score += rmse / cv\n",
    "\n",
    "            gc.collect()\n",
    "        \n",
    "        cv_scores[\"building_idx\"].append(building_idx)\n",
    "        cv_scores[\"meter_id\"].append(meter_id)\n",
    "        cv_scores[\"cv_score\"].append(score)\n",
    "        \n",
    "#         print(\"\\nBuilding Id:\", building_idx, \"meter Id:\", meter_id, \", CV RMSE:\", np.sqrt(mean_squared_error(y_train_site, y_pred_train_site)), \"\\n\")\n",
    "    models[building_idx].append(site_model)"
   ]
  },
  {
   "cell_type": "code",
   "execution_count": 8,
   "metadata": {
    "scrolled": false
   },
   "outputs": [],
   "source": [
    "# ### compute weight cv score\n",
    "# def weight_cv_score(df_train, cv_score_df):\n",
    "    \n",
    "#     mini_model_portion = []\n",
    "#     for site_id in tqdm_notebook(range(16), desc=\"site_id\"):\n",
    "#         for meter_id in range(4):\n",
    "#             X_train_site = df_train[(df_train.site_id==site_id) & (df_train.meter==meter_id)].reset_index(drop=True)\n",
    "#             if(len(X_train_site) != 0):\n",
    "#                 portion_rate = np.round(X_train_site.shape[0] / df_train.shape[0] * 100, 2)\n",
    "#                 print(\"site_id:\", site_id, \"meter:\",meter_id, \"---\", X_train_site.building_id.nunique(),\"buildings\", portion_rate, \"% :\", cv_score_df[cv_score_df.site_id==site_id][cv_score_df.meter_id==meter_id]['cv_score'].values.round(4))                \n",
    "#                 mini_model_portion.append(X_train_site.shape[0] / df_train.shape[0])\n",
    "#         print(\"--------------------------------------------\")\n",
    "#     cv_weight_score = np.array(mini_model_portion) * (np.array(cv_score_df.cv_score) ** 2)\n",
    "#     weighted_score = np.round(cv_weight_score.sum() ** 0.5, 4)\n",
    "    \n",
    "#     return weighted_score\n",
    "# cv_score_df = pd.DataFrame.from_dict(cv_scores)\n",
    "# print(\"Overall CV score is:\", weight_cv_score(df_train, cv_score_df))"
   ]
  },
  {
   "cell_type": "markdown",
   "metadata": {},
   "source": [
    "---"
   ]
  },
  {
   "cell_type": "code",
   "execution_count": 9,
   "metadata": {},
   "outputs": [],
   "source": [
    "# del df_train, X_train_site, y_train_site, X_train, y_train, dtrain, X_valid, y_valid, dvalid, y_pred_train_site, y_pred_valid, rmse, score, cv_scores\n",
    "# gc.collect()"
   ]
  },
  {
   "cell_type": "code",
   "execution_count": 10,
   "metadata": {},
   "outputs": [],
   "source": [
    "# # look at feature importance\n",
    "# for site_id in range(1449):\n",
    "#     for meter_id in models[site_id][0].keys():\n",
    "#         for cv_id in range(cv):\n",
    "#             lgb.plot_importance(models[site_id][0][meter_id][cv_id], figsize=(9,6))\n",
    "#             plt.title(str(site_id) + \"_\" + str(meter_id)+\"_\"+str(cv_id))\n",
    "#             plt.show()"
   ]
  },
  {
   "cell_type": "code",
   "execution_count": 11,
   "metadata": {},
   "outputs": [
    {
     "data": {
      "application/vnd.jupyter.widget-view+json": {
       "model_id": "c48ede48cf1a4791b4ea94df4c56e3cb",
       "version_major": 2,
       "version_minor": 0
      },
      "text/plain": [
       "HBox(children=(FloatProgress(value=0.0, description='building_id', max=1.0, style=ProgressStyle(description_wi…"
      ]
     },
     "metadata": {},
     "output_type": "display_data"
    },
    {
     "name": "stdout",
     "output_type": "stream",
     "text": [
      "\n"
     ]
    }
   ],
   "source": [
    "### make predictions\n",
    "df_test_sites = []\n",
    "\n",
    "for building_idx in tqdm_notebook([723], desc=\"building_id\"):\n",
    "    \n",
    "    for meter_id in [0]:\n",
    "    \n",
    "        X_test_site = df_test[(df_test.building_id==building_idx) & (df_test.meter==meter_id)]\n",
    "        row_ids_site = X_test_site.row_id\n",
    "\n",
    "        X_test_site = X_test_site[all_features]\n",
    "        y_pred_test_site = np.zeros(X_test_site.shape[0])\n",
    "        \n",
    "        if(len(X_test_site)==0):\n",
    "            continue\n",
    "\n",
    "        for fold in range(cv):\n",
    "            model_lgb = models[building_idx][0][meter_id][fold]\n",
    "            y_pred_test_site += model_lgb.predict(X_test_site, num_iteration=model_lgb.best_iteration_) / cv\n",
    "            gc.collect()\n",
    "        \n",
    "        df_test_site = pd.DataFrame({\"row_id\": row_ids_site, \"meter_reading\": y_pred_test_site})\n",
    "        df_test_sites.append(df_test_site)\n",
    "        \n",
    "        gc.collect()"
   ]
  },
  {
   "cell_type": "code",
   "execution_count": 12,
   "metadata": {},
   "outputs": [
    {
     "name": "stdout",
     "output_type": "stream",
     "text": [
      "(17520, 2)\n"
     ]
    },
    {
     "data": {
      "text/html": [
       "<div>\n",
       "<style scoped>\n",
       "    .dataframe tbody tr th:only-of-type {\n",
       "        vertical-align: middle;\n",
       "    }\n",
       "\n",
       "    .dataframe tbody tr th {\n",
       "        vertical-align: top;\n",
       "    }\n",
       "\n",
       "    .dataframe thead th {\n",
       "        text-align: right;\n",
       "    }\n",
       "</style>\n",
       "<table border=\"1\" class=\"dataframe\">\n",
       "  <thead>\n",
       "    <tr style=\"text-align: right;\">\n",
       "      <th></th>\n",
       "      <th>row_id</th>\n",
       "      <th>meter_reading</th>\n",
       "    </tr>\n",
       "  </thead>\n",
       "  <tbody>\n",
       "    <tr>\n",
       "      <th>16013001</th>\n",
       "      <td>41514503</td>\n",
       "      <td>90.8304</td>\n",
       "    </tr>\n",
       "    <tr>\n",
       "      <th>15995760</th>\n",
       "      <td>14806122</td>\n",
       "      <td>82.8295</td>\n",
       "    </tr>\n",
       "    <tr>\n",
       "      <th>15995761</th>\n",
       "      <td>14806211</td>\n",
       "      <td>79.2275</td>\n",
       "    </tr>\n",
       "    <tr>\n",
       "      <th>15995762</th>\n",
       "      <td>14806300</td>\n",
       "      <td>84.7605</td>\n",
       "    </tr>\n",
       "    <tr>\n",
       "      <th>15995763</th>\n",
       "      <td>14806389</td>\n",
       "      <td>85.1784</td>\n",
       "    </tr>\n",
       "  </tbody>\n",
       "</table>\n",
       "</div>"
      ],
      "text/plain": [
       "            row_id  meter_reading\n",
       "16013001  41514503        90.8304\n",
       "15995760  14806122        82.8295\n",
       "15995761  14806211        79.2275\n",
       "15995762  14806300        84.7605\n",
       "15995763  14806389        85.1784"
      ]
     },
     "execution_count": 12,
     "metadata": {},
     "output_type": "execute_result"
    }
   ],
   "source": [
    "submit = pd.concat(df_test_sites)\n",
    "submit.meter_reading = np.clip(np.expm1(submit.meter_reading), 0, a_max=None)\n",
    "submit.meter_reading = submit.meter_reading.round(4)\n",
    "print(submit.shape)\n",
    "submit.head()"
   ]
  },
  {
   "cell_type": "code",
   "execution_count": 13,
   "metadata": {},
   "outputs": [
    {
     "data": {
      "text/plain": [
       "[<matplotlib.lines.Line2D at 0x7fa6a72b3350>]"
      ]
     },
     "execution_count": 13,
     "metadata": {},
     "output_type": "execute_result"
    },
    {
     "data": {
      "image/png": "[encoded data removed]",
      "text/plain": [
       "<Figure size 432x288 with 1 Axes>"
      ]
     },
     "metadata": {
      "needs_background": "light"
     },
     "output_type": "display_data"
    }
   ],
   "source": [
    "plt.plot(X_train_site.meter_reading, '.b')"
   ]
  },
  {
   "cell_type": "code",
   "execution_count": 14,
   "metadata": {},
   "outputs": [
    {
     "data": {
      "text/plain": [
       "[<matplotlib.lines.Line2D at 0x7fa6a71c5290>]"
      ]
     },
     "execution_count": 14,
     "metadata": {},
     "output_type": "execute_result"
    },
    {
     "data": {
      "image/png": "[encoded data removed]",
      "text/plain": [
       "<Figure size 432x288 with 1 Axes>"
      ]
     },
     "metadata": {
      "needs_background": "light"
     },
     "output_type": "display_data"
    }
   ],
   "source": [
    "plt.plot(submit.meter_reading, '.r')"
   ]
  },
  {
   "cell_type": "code",
   "execution_count": 15,
   "metadata": {},
   "outputs": [
    {
     "name": "stdout",
     "output_type": "stream",
     "text": [
      "There are some things wrong ... The submission is not submitted ...\n"
     ]
    }
   ],
   "source": [
    "### should be (41697600, 2)\n",
    "WRITE_TOKEN = False\n",
    "SUBMIT_TOKEN = False\n",
    "if((submit.shape == (41697600, 2)) * (WRITE_TOKEN)):\n",
    "    print(\"Good, the submission is ready to submit..., submission shape is\", submit.shape)\n",
    "    SUBMISSION_FILE_PATH = \"../submission/building_693.csv.gz\"\n",
    "    print(\"Writing the submission to csv.gz file ...\")\n",
    "    submit.to_csv(SUBMISSION_FILE_PATH, index=False, compression='gzip')\n",
    "    if(SUBMIT_TOKEN):\n",
    "        print(\"Submitting the csv.gz file to Kaggle platform ...\")\n",
    "        !kaggle competitions submit -c ashrae-energy-prediction -f \"../ensembles/building_wise2.csv.gz\" -m \"lgb automatic submit ...\"\n",
    "        print(\"Submitted successfully! Good luck ...\")\n",
    "else:\n",
    "    print(\"There are some things wrong ... The submission is not submitted ...\")"
   ]
  },
  {
   "cell_type": "code",
   "execution_count": 16,
   "metadata": {},
   "outputs": [
    {
     "name": "stdout",
     "output_type": "stream",
     "text": [
      "Writing the submission to csv.gz file ...\n"
     ]
    }
   ],
   "source": [
    "SUBMISSION_FILE_PATH = \"../post-processing/building_723.csv.gz\"\n",
    "print(\"Writing the submission to csv.gz file ...\")\n",
    "submit.to_csv(SUBMISSION_FILE_PATH, index=False, compression='gzip')"
   ]
  },
  {
   "cell_type": "code",
   "execution_count": null,
   "metadata": {},
   "outputs": [],
   "source": []
  },
  {
   "cell_type": "code",
   "execution_count": null,
   "metadata": {},
   "outputs": [],
   "source": []
  },
  {
   "cell_type": "code",
   "execution_count": null,
   "metadata": {},
   "outputs": [],
   "source": []
  },
  {
   "cell_type": "code",
   "execution_count": null,
   "metadata": {},
   "outputs": [],
   "source": []
  }
 ],
 "metadata": {
  "kernelspec": {
   "display_name": "Python 3",
   "language": "python",
   "name": "python3"
  },
  "language_info": {
   "codemirror_mode": {
    "name": "ipython",
    "version": 3
   },
   "file_extension": ".py",
   "mimetype": "text/x-python",
   "name": "python",
   "nbconvert_exporter": "python",
   "pygments_lexer": "ipython3",
   "version": "3.7.5"
  }
 },
 "nbformat": 4,
 "nbformat_minor": 2
}
